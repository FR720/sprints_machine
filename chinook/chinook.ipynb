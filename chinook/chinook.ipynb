{
 "cells": [
  {
   "cell_type": "markdown",
   "metadata": {},
   "source": [
    "## `Analysis chinook database`\n"
   ]
  },
  {
   "cell_type": "markdown",
   "metadata": {},
   "source": [
    "### First thing read db and show it's table's and columns"
   ]
  },
  {
   "cell_type": "code",
   "execution_count": 5,
   "metadata": {},
   "outputs": [
    {
     "name": "stdout",
     "output_type": "stream",
     "text": [
      "Table Album has 347 rows.\n",
      "Columns: AlbumId, Title, ArtistId/n/n\n",
      "Table Artist has 275 rows.\n",
      "Columns: ArtistId, Name/n/n\n",
      "Table Customer has 59 rows.\n",
      "Columns: CustomerId, FirstName, LastName, Company, Address, City, State, Country, PostalCode, Phone, Fax, Email, SupportRepId/n/n\n",
      "Table Employee has 8 rows.\n",
      "Columns: EmployeeId, LastName, FirstName, Title, ReportsTo, BirthDate, HireDate, Address, City, State, Country, PostalCode, Phone, Fax, Email/n/n\n",
      "Table Genre has 25 rows.\n",
      "Columns: GenreId, Name/n/n\n",
      "Table Invoice has 412 rows.\n",
      "Columns: InvoiceId, CustomerId, InvoiceDate, BillingAddress, BillingCity, BillingState, BillingCountry, BillingPostalCode, Total/n/n\n",
      "Table InvoiceLine has 2240 rows.\n",
      "Columns: InvoiceLineId, InvoiceId, TrackId, UnitPrice, Quantity/n/n\n",
      "Table MediaType has 5 rows.\n",
      "Columns: MediaTypeId, Name/n/n\n",
      "Table Playlist has 18 rows.\n",
      "Columns: PlaylistId, Name/n/n\n",
      "Table PlaylistTrack has 8715 rows.\n",
      "Columns: PlaylistId, TrackId/n/n\n",
      "Table Track has 3503 rows.\n",
      "Columns: TrackId, Name, AlbumId, MediaTypeId, GenreId, Composer, Milliseconds, Bytes, UnitPrice/n/n\n"
     ]
    }
   ],
   "source": [
    "import sqlite3\n",
    "import pandas as pd\n",
    "\n",
    "# Connect to SQLite database\n",
    "conn = sqlite3.connect('Chinook_Sqlite.sqlite')\n",
    "cursor = conn.cursor()\n",
    "\n",
    "#List all tables in the db\n",
    "query= \"SELECT name FROM sqlite_master  WHERE type ='table';\"\n",
    "tables_name = cursor.execute(query).fetchall()\n",
    "for table_name in tables_name:\n",
    "\n",
    "    # count the rows in table\n",
    "    count_query=f\"SELECT COUNT(*) FROM {table_name[0]};\" \n",
    "    cursor.execute(count_query)  \n",
    "    row_count = cursor.fetchone()[0]\n",
    "    print(f\"Table {table_name[0]} has {row_count} rows.\")\n",
    "\n",
    "    # fetch columns names for the table\n",
    "    columns_query = f\"PRAGMA table_info({table_name[0]});\"\n",
    "    cursor.execute(columns_query)\n",
    "    columns = [column[1] for column in cursor.fetchall()]\n",
    "    print(f\"Columns: {', '.join(columns)}\\n\\n\") \n"
   ]
  }
 ],
 "metadata": {
  "kernelspec": {
   "display_name": "Python 3",
   "language": "python",
   "name": "python3"
  },
  "language_info": {
   "codemirror_mode": {
    "name": "ipython",
    "version": 3
   },
   "file_extension": ".py",
   "mimetype": "text/x-python",
   "name": "python",
   "nbconvert_exporter": "python",
   "pygments_lexer": "ipython3",
   "version": "3.13.1"
  }
 },
 "nbformat": 4,
 "nbformat_minor": 2
}
