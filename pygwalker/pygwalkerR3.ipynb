{
 "cells": [
  {
   "cell_type": "code",
   "execution_count": 6,
   "metadata": {},
   "outputs": [
    {
     "name": "stdout",
     "output_type": "stream",
     "text": [
      "Collecting pygwalker\n",
      "  Using cached pygwalker-0.4.9.13-py3-none-any.whl.metadata (20 kB)\n",
      "Collecting pandas\n",
      "  Using cached pandas-2.2.3-cp313-cp313-win_amd64.whl.metadata (19 kB)\n",
      "Collecting anywidget (from pygwalker)\n",
      "  Using cached anywidget-0.9.13-py3-none-any.whl.metadata (7.2 kB)\n",
      "Collecting appdirs (from pygwalker)\n",
      "  Using cached appdirs-1.4.4-py2.py3-none-any.whl.metadata (9.0 kB)\n",
      "Requirement already satisfied: arrow in c:\\users\\fady\\desktop\\new folder\\pygwalker\\myenv\\lib\\site-packages (from pygwalker) (1.3.0)\n",
      "Collecting astor (from pygwalker)\n",
      "  Using cached astor-0.8.1-py2.py3-none-any.whl.metadata (4.2 kB)\n",
      "Collecting cachetools (from pygwalker)\n",
      "  Using cached cachetools-5.5.0-py3-none-any.whl.metadata (5.3 kB)\n",
      "Collecting duckdb<2.0.0,>=0.10.1 (from pygwalker)\n",
      "  Using cached duckdb-1.1.3-cp313-cp313-win_amd64.whl.metadata (781 bytes)\n",
      "Collecting gw-dsl-parser==0.1.49.1 (from pygwalker)\n",
      "  Using cached gw_dsl_parser-0.1.49.1-py3-none-any.whl.metadata (1.2 kB)\n",
      "Collecting ipylab<=1.0.0 (from pygwalker)\n",
      "  Using cached ipylab-1.0.0-py3-none-any.whl.metadata (6.7 kB)\n",
      "Requirement already satisfied: ipython in c:\\users\\fady\\desktop\\new folder\\pygwalker\\myenv\\lib\\site-packages (from pygwalker) (8.31.0)\n",
      "Collecting ipywidgets (from pygwalker)\n",
      "  Using cached ipywidgets-8.1.5-py3-none-any.whl.metadata (2.3 kB)\n",
      "Requirement already satisfied: jinja2 in c:\\users\\fady\\desktop\\new folder\\pygwalker\\myenv\\lib\\site-packages (from pygwalker) (3.1.5)\n",
      "Collecting kanaries-track==0.0.5 (from pygwalker)\n",
      "  Using cached kanaries_track-0.0.5-py3-none-any.whl.metadata (913 bytes)\n",
      "Collecting numpy<2.0.0 (from pygwalker)\n",
      "  Using cached numpy-1.26.4.tar.gz (15.8 MB)\n",
      "  Installing build dependencies: started\n",
      "  Installing build dependencies: finished with status 'done'\n",
      "  Getting requirements to build wheel: started\n",
      "  Getting requirements to build wheel: finished with status 'done'\n",
      "  Installing backend dependencies: started\n",
      "  Installing backend dependencies: finished with status 'done'\n",
      "  Preparing metadata (pyproject.toml): started\n",
      "  Preparing metadata (pyproject.toml): finished with status 'error'\n",
      "Note: you may need to restart the kernel to use updated packages.\n"
     ]
    },
    {
     "name": "stderr",
     "output_type": "stream",
     "text": [
      "  error: subprocess-exited-with-error\n",
      "  \n",
      "  Preparing metadata (pyproject.toml) did not run successfully.\n",
      "  exit code: 1\n",
      "  \n",
      "  [21 lines of output]\n",
      "  + C:\\Users\\fady\\Desktop\\New folder\\pygwalker\\myenv\\Scripts\\python.exe C:\\Users\\fady\\AppData\\Local\\Temp\\pip-install-7p4ybcsk\\numpy_6c90ae8f9770456cb33df13dac93946d\\vendored-meson\\meson\\meson.py setup C:\\Users\\fady\\AppData\\Local\\Temp\\pip-install-7p4ybcsk\\numpy_6c90ae8f9770456cb33df13dac93946d C:\\Users\\fady\\AppData\\Local\\Temp\\pip-install-7p4ybcsk\\numpy_6c90ae8f9770456cb33df13dac93946d\\.mesonpy-i_13vnmg -Dbuildtype=release -Db_ndebug=if-release -Db_vscrt=md --native-file=C:\\Users\\fady\\AppData\\Local\\Temp\\pip-install-7p4ybcsk\\numpy_6c90ae8f9770456cb33df13dac93946d\\.mesonpy-i_13vnmg\\meson-python-native-file.ini\n",
      "  The Meson build system\n",
      "  Version: 1.2.99\n",
      "  Source dir: C:\\Users\\fady\\AppData\\Local\\Temp\\pip-install-7p4ybcsk\\numpy_6c90ae8f9770456cb33df13dac93946d\n",
      "  Build dir: C:\\Users\\fady\\AppData\\Local\\Temp\\pip-install-7p4ybcsk\\numpy_6c90ae8f9770456cb33df13dac93946d\\.mesonpy-i_13vnmg\n",
      "  Build type: native build\n",
      "  Project name: NumPy\n",
      "  Project version: 1.26.4\n",
      "  WARNING: Failed to activate VS environment: Could not parse vswhere.exe output\n",
      "  \n",
      "  ..\\meson.build:1:0: ERROR: Unknown compiler(s): [['icl'], ['cl'], ['cc'], ['gcc'], ['clang'], ['clang-cl'], ['pgcc']]\n",
      "  The following exception(s) were encountered:\n",
      "  Running `icl \"\"` gave \"[WinError 2] The system cannot find the file specified\"\n",
      "  Running `cl /?` gave \"[WinError 2] The system cannot find the file specified\"\n",
      "  Running `cc --version` gave \"[WinError 2] The system cannot find the file specified\"\n",
      "  Running `gcc --version` gave \"[WinError 2] The system cannot find the file specified\"\n",
      "  Running `clang --version` gave \"[WinError 2] The system cannot find the file specified\"\n",
      "  Running `clang-cl /?` gave \"[WinError 2] The system cannot find the file specified\"\n",
      "  Running `pgcc --version` gave \"[WinError 2] The system cannot find the file specified\"\n",
      "  \n",
      "  A full log can be found at C:\\Users\\fady\\AppData\\Local\\Temp\\pip-install-7p4ybcsk\\numpy_6c90ae8f9770456cb33df13dac93946d\\.mesonpy-i_13vnmg\\meson-logs\\meson-log.txt\n",
      "  [end of output]\n",
      "  \n",
      "  note: This error originates from a subprocess, and is likely not a problem with pip.\n",
      "error: metadata-generation-failed\n",
      "\n",
      "Encountered error while generating package metadata.\n",
      "\n",
      "See above for output.\n",
      "\n",
      "note: This is an issue with the package mentioned above, not pip.\n",
      "hint: See above for details.\n"
     ]
    }
   ],
   "source": [
    "pip  install pygwalker pandas"
   ]
  },
  {
   "cell_type": "code",
   "execution_count": 7,
   "metadata": {},
   "outputs": [
    {
     "ename": "ModuleNotFoundError",
     "evalue": "No module named 'pandas'",
     "output_type": "error",
     "traceback": [
      "\u001b[1;31m---------------------------------------------------------------------------\u001b[0m",
      "\u001b[1;31mModuleNotFoundError\u001b[0m                       Traceback (most recent call last)",
      "Cell \u001b[1;32mIn[7], line 1\u001b[0m\n\u001b[1;32m----> 1\u001b[0m \u001b[38;5;28;01mimport\u001b[39;00m \u001b[38;5;21;01mpandas\u001b[39;00m \u001b[38;5;28;01mas\u001b[39;00m \u001b[38;5;21;01mpd\u001b[39;00m\n\u001b[0;32m      2\u001b[0m \u001b[38;5;28;01mimport\u001b[39;00m \u001b[38;5;21;01mpygwalker\u001b[39;00m \u001b[38;5;28;01mas\u001b[39;00m \u001b[38;5;21;01mpyg\u001b[39;00m\n",
      "\u001b[1;31mModuleNotFoundError\u001b[0m: No module named 'pandas'"
     ]
    }
   ],
   "source": [
    "import pandas as pd\n",
    "import pygwalker as pyg"
   ]
  },
  {
   "cell_type": "code",
   "execution_count": null,
   "metadata": {},
   "outputs": [],
   "source": [
    "# Sample Data\n",
    "df = pd.DataFrame({\n",
    "    'A': [1, 2, 3, 4, 5],\n",
    "    'B': [5, 6, 7, 8, 9],\n",
    "    'Category': ['X', 'Y', 'Z', 'X', 'Y'],\n",
    "    'Date': pd.date_range('20210101', periods=5)\n",
    "})"
   ]
  },
  {
   "cell_type": "code",
   "execution_count": null,
   "metadata": {},
   "outputs": [],
   "source": [
    "pyg.walk(df)"
   ]
  },
  {
   "cell_type": "code",
   "execution_count": null,
   "metadata": {},
   "outputs": [],
   "source": []
  },
  {
   "cell_type": "code",
   "execution_count": null,
   "metadata": {},
   "outputs": [],
   "source": []
  },
  {
   "cell_type": "code",
   "execution_count": null,
   "metadata": {},
   "outputs": [],
   "source": []
  },
  {
   "cell_type": "code",
   "execution_count": null,
   "metadata": {},
   "outputs": [],
   "source": []
  }
 ],
 "metadata": {
  "kernelspec": {
   "display_name": "Python 3 (ipykernel)",
   "language": "python",
   "name": "python3"
  },
  "language_info": {
   "codemirror_mode": {
    "name": "ipython",
    "version": 3
   },
   "file_extension": ".py",
   "mimetype": "text/x-python",
   "name": "python",
   "nbconvert_exporter": "python",
   "pygments_lexer": "ipython3",
   "version": "3.13.1"
  }
 },
 "nbformat": 4,
 "nbformat_minor": 4
}
